{
  "nbformat": 4,
  "nbformat_minor": 0,
  "metadata": {
    "colab": {
      "name": "Mail Service AOB.ipynb",
      "provenance": [],
      "include_colab_link": true
    },
    "kernelspec": {
      "name": "python3",
      "display_name": "Python 3"
    }
  },
  "cells": [
    {
      "cell_type": "markdown",
      "metadata": {
        "id": "view-in-github",
        "colab_type": "text"
      },
      "source": [
        "<a href=\"https://colab.research.google.com/github/kavipatel04/testsilberapps.github.io/blob/master/Mail_Service_AOB.ipynb\" target=\"_parent\"><img src=\"https://colab.research.google.com/assets/colab-badge.svg\" alt=\"Open In Colab\"/></a>"
      ]
    },
    {
      "cell_type": "code",
      "metadata": {
        "id": "w6svMc2-imHl"
      },
      "source": [
        "##accessing google sheets\n",
        "from google.colab import auth\n",
        "auth.authenticate_user()\n",
        "import gspread\n",
        "from oauth2client.client import GoogleCredentials\n",
        "gc = gspread.authorize(GoogleCredentials.get_application_default())"
      ],
      "execution_count": null,
      "outputs": []
    },
    {
      "cell_type": "code",
      "metadata": {
        "id": "U1lT0rmnj77q"
      },
      "source": [
        "\n",
        "wb = gc.open_by_url('https://docs.google.com/spreadsheets/d/1dcpsd85yf4ko7ZNeXb1-PxtzrRQY6_NA9gjknqkvf9k/edit?ts=5fd3dee0#gid=0')\n",
        "sheet = wb.worksheet('Sheet1')\n"
      ],
      "execution_count": null,
      "outputs": []
    },
    {
      "cell_type": "code",
      "metadata": {
        "id": "94wYQkXKhghE"
      },
      "source": [
        "import smtplib\n",
        "import getpass\n",
        "# Set Global Variables\n",
        "global gmail_user\n",
        "global gmail_password\n",
        "def generateCredentials():\n",
        "  global gmail_user\n",
        "  global gmail_password\n",
        "  gmail_user = input(\"Enter your gmail username: \")\n",
        "  gmail_password = getpass.getpass(\"Enter your gmail password: \")\n",
        "# Create Email \n",
        "def sendMail(who, subject, body):\n",
        "  global gmail_user\n",
        "  global gmail_password\n",
        "  mail_from = gmail_user\n",
        "  mail_to = who\n",
        "  mail_subject = subject\n",
        "  mail_message_body = body\n",
        "  try:\n",
        "    mail_message = \"From: %s\\nTo: %s\\nSubject: %s\\n\\n%s\" % (mail_from, mail_to, mail_subject, mail_message_body)\n",
        "    # Sent Email\n",
        "    server = smtplib.SMTP_SSL('smtp.gmail.com', 465)\n",
        "    server.login(gmail_user, gmail_password)\n",
        "    server.sendmail(mail_from, mail_to, mail_message)\n",
        "    server.close()\n",
        "    time.sleep(1)\n",
        "    print(\"Email has been successfully sent to: \" + who)\n",
        "  except:\n",
        "    print(\"Email was not sent successfully to: \" + who)\n",
        "  \n"
      ],
      "execution_count": null,
      "outputs": []
    },
    {
      "cell_type": "code",
      "metadata": {
        "id": "BA4BiVlrrsEo"
      },
      "source": [
        "def generateBody(name, date, meetingLink):\n",
        "  finalBody = \"Hi \" + name + \",\\nIt seems like you missed our meeting on \" + date + \". We missed you! However, you're in luck! All the meeting notes have been typed up in a google doc. You can access that google doc here \" + meetingLink + \" . We hope to see you next week. \\n\\n Sincerely, \\n Your Fellow AOB Squad \\n\\nYup! If the styling didn't show, this email was auto-generated!\"\n",
        "  return finalBody\n",
        "\n",
        "#The body for when we don't have a meeting\n",
        "def generateNMBody(name, date):\n",
        "  finalBody = \"Hey \" + name + \",\\nThis is a courtesy email to let you know that Academy of Biotechnology officers will NOT be meeting on \" + date + \". Enjoy the day off :). We can't wait to see you next week! \\n\\nSincerely, \\nYour Fellow AOB Squad \\n\\nYup! If the styling didn't show, this email was automatically sent!\"\n",
        "  return finalBody"
      ],
      "execution_count": null,
      "outputs": []
    },
    {
      "cell_type": "code",
      "metadata": {
        "id": "_01fv1rXk7uX",
        "colab": {
          "base_uri": "https://localhost:8080/"
        },
        "outputId": "6a64209b-0489-4ec1-e392-e9b38063c6c9"
      },
      "source": [
        "date = \"01/22/2021\"\n",
        "meetingDateInfo = sheet.find(date)\n",
        "meetingRow = meetingDateInfo.row + 1\n",
        "meetingColumn = meetingDateInfo.col\n",
        "data = sheet.col_values(meetingColumn, value_render_option='FORMATTED_VALUE')\n",
        "meetingLink = data[1]\n",
        "absentArr = []\n",
        "counter = 0\n",
        "for var in data:\n",
        "  if var ==\"x\":\n",
        "    absentArr.append(counter)\n",
        "  counter += 1\n",
        "\n",
        "names = sheet.col_values(1, value_render_option='FORMATTED_VALUE')\n",
        "emails = sheet.col_values(2, value_render_option='FORMATTED_VALUE')\n",
        "for id in absentArr:\n",
        "  print(\"The computer wants to send an email to: \" + names[id] + \"  \" + emails[id])\n",
        "\n",
        "approval = str(input(\"To approve this email list please enter \\\"Y\\\" for Yes  \"))\n",
        "if approval ==\"Y\":\n",
        "  generateCredentials()\n",
        "  for id in absentArr:\n",
        "    emailBody = generateBody(names[id], date, str(meetingLink))\n",
        "    sendMail(str(emails[id]), names[id] + ' Missed AOB Meeting: ' + date, str(emailBody))\n",
        "else:\n",
        "  print(\"Okay stopping\")\n",
        "\n",
        "  "
      ],
      "execution_count": null,
      "outputs": [
        {
          "output_type": "stream",
          "text": [
            "The computer wants to send an email to: Alisha Patel  410782@mcpsmd.net\n",
            "The computer wants to send an email to: Amber Briscoe  404552@mcpsmd.net\n",
            "The computer wants to send an email to: Imani Ghosh  204991@mcpsmd.net\n",
            "The computer wants to send an email to: Yoonah Suh  209562@mcpsmd.net\n",
            "To approve this email list please enter \"Y\" for Yes  Y\n",
            "Enter your gmail username: 437437@mcpsmd.net\n",
            "Enter your gmail password: ··········\n",
            "Email was not sent successfully to: 404552@mcpsmd.net\n"
          ],
          "name": "stdout"
        }
      ]
    }
  ]
}